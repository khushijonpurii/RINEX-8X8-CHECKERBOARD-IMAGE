{
  "nbformat": 4,
  "nbformat_minor": 0,
  "metadata": {
    "colab": {
      "provenance": []
    },
    "kernelspec": {
      "name": "python3",
      "display_name": "Python 3"
    },
    "language_info": {
      "name": "python"
    }
  },
  "cells": [
    {
      "cell_type": "code",
      "execution_count": null,
      "metadata": {
        "id": "BAmA0OJw2aJf"
      },
      "outputs": [],
      "source": [
        "#python idle"
      ]
    },
    {
      "cell_type": "code",
      "source": [
        "#8x8 checkerboard image"
      ],
      "metadata": {
        "id": "u5mpaN-d2gRQ"
      },
      "execution_count": null,
      "outputs": []
    },
    {
      "cell_type": "code",
      "source": [
        "import cv2\n",
        "import numpy as np\n",
        "width, height = 8, 8\n",
        "image = np.zeros((height, width), dtype=np.uint8)\n",
        "for row in range(height):\n",
        "    for col in range(width):\n",
        "        if (row + col) % 2 == 0:\n",
        "            image[row, col] = 255\n",
        "resized_image = cv2.resize(image, (400, 400), interpolation=cv2.INTER_NEAREST)\n",
        "cv2.imshow(\"Checkerboard\", resized_image)\n",
        "cv2.waitKey(0)\n",
        "cv2.destroyAllWindows()\n"
      ],
      "metadata": {
        "id": "bXMR8rcY2otS"
      },
      "execution_count": null,
      "outputs": []
    }
  ]
}